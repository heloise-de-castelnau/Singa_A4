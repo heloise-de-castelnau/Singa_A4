{
  "nbformat": 4,
  "nbformat_minor": 0,
  "metadata": {
    "colab": {
      "name": "API_Singa_esilv.ipynb",
      "provenance": [],
      "collapsed_sections": []
    },
    "kernelspec": {
      "name": "python3",
      "display_name": "Python 3"
    },
    "language_info": {
      "name": "python"
    }
  },
  "cells": [
    {
      "cell_type": "code",
      "execution_count": 1,
      "metadata": {
        "id": "-jwrWwGE4xmq",
        "colab": {
          "base_uri": "https://localhost:8080/",
          "height": 1000
        },
        "outputId": "343c6b40-752c-44cb-ee25-69cb24f5f641"
      },
      "outputs": [
        {
          "output_type": "stream",
          "name": "stdout",
          "text": [
            "Collecting streamlit\n",
            "  Downloading streamlit-1.7.0-py2.py3-none-any.whl (9.9 MB)\n",
            "\u001b[K     |████████████████████████████████| 9.9 MB 5.2 MB/s \n",
            "\u001b[?25hCollecting toml\n",
            "  Downloading toml-0.10.2-py2.py3-none-any.whl (16 kB)\n",
            "Requirement already satisfied: importlib-metadata>=1.4 in /usr/local/lib/python3.7/dist-packages (from streamlit) (4.11.2)\n",
            "Requirement already satisfied: pyarrow in /usr/local/lib/python3.7/dist-packages (from streamlit) (6.0.1)\n",
            "Requirement already satisfied: astor in /usr/local/lib/python3.7/dist-packages (from streamlit) (0.8.1)\n",
            "Requirement already satisfied: cachetools>=4.0 in /usr/local/lib/python3.7/dist-packages (from streamlit) (4.2.4)\n",
            "Collecting watchdog\n",
            "  Downloading watchdog-2.1.6-py3-none-manylinux2014_x86_64.whl (76 kB)\n",
            "\u001b[K     |████████████████████████████████| 76 kB 5.7 MB/s \n",
            "\u001b[?25hRequirement already satisfied: numpy in /usr/local/lib/python3.7/dist-packages (from streamlit) (1.21.5)\n",
            "Collecting pympler>=0.9\n",
            "  Downloading Pympler-1.0.1-py3-none-any.whl (164 kB)\n",
            "\u001b[K     |████████████████████████████████| 164 kB 53.0 MB/s \n",
            "\u001b[?25hRequirement already satisfied: pillow>=6.2.0 in /usr/local/lib/python3.7/dist-packages (from streamlit) (7.1.2)\n",
            "Requirement already satisfied: requests in /usr/local/lib/python3.7/dist-packages (from streamlit) (2.23.0)\n",
            "Collecting pydeck>=0.1.dev5\n",
            "  Downloading pydeck-0.7.1-py2.py3-none-any.whl (4.3 MB)\n",
            "\u001b[K     |████████████████████████████████| 4.3 MB 31.9 MB/s \n",
            "\u001b[?25hRequirement already satisfied: python-dateutil in /usr/local/lib/python3.7/dist-packages (from streamlit) (2.8.2)\n",
            "Requirement already satisfied: semver in /usr/local/lib/python3.7/dist-packages (from streamlit) (2.13.0)\n",
            "Requirement already satisfied: packaging in /usr/local/lib/python3.7/dist-packages (from streamlit) (21.3)\n",
            "Collecting validators\n",
            "  Downloading validators-0.18.2-py3-none-any.whl (19 kB)\n",
            "Requirement already satisfied: protobuf!=3.11,>=3.6.0 in /usr/local/lib/python3.7/dist-packages (from streamlit) (3.17.3)\n",
            "Requirement already satisfied: attrs in /usr/local/lib/python3.7/dist-packages (from streamlit) (21.4.0)\n",
            "Collecting blinker\n",
            "  Downloading blinker-1.4.tar.gz (111 kB)\n",
            "\u001b[K     |████████████████████████████████| 111 kB 45.8 MB/s \n",
            "\u001b[?25hRequirement already satisfied: pandas>=0.21.0 in /usr/local/lib/python3.7/dist-packages (from streamlit) (1.3.5)\n",
            "Requirement already satisfied: altair>=3.2.0 in /usr/local/lib/python3.7/dist-packages (from streamlit) (4.2.0)\n",
            "Collecting base58\n",
            "  Downloading base58-2.1.1-py3-none-any.whl (5.6 kB)\n",
            "Requirement already satisfied: tornado>=5.0 in /usr/local/lib/python3.7/dist-packages (from streamlit) (5.1.1)\n",
            "Requirement already satisfied: tzlocal in /usr/local/lib/python3.7/dist-packages (from streamlit) (1.5.1)\n",
            "Collecting gitpython!=3.1.19\n",
            "  Downloading GitPython-3.1.27-py3-none-any.whl (181 kB)\n",
            "\u001b[K     |████████████████████████████████| 181 kB 37.6 MB/s \n",
            "\u001b[?25hRequirement already satisfied: click>=7.0 in /usr/local/lib/python3.7/dist-packages (from streamlit) (7.1.2)\n",
            "Requirement already satisfied: typing-extensions in /usr/local/lib/python3.7/dist-packages (from streamlit) (3.10.0.2)\n",
            "Requirement already satisfied: jsonschema>=3.0 in /usr/local/lib/python3.7/dist-packages (from altair>=3.2.0->streamlit) (4.3.3)\n",
            "Requirement already satisfied: jinja2 in /usr/local/lib/python3.7/dist-packages (from altair>=3.2.0->streamlit) (2.11.3)\n",
            "Requirement already satisfied: entrypoints in /usr/local/lib/python3.7/dist-packages (from altair>=3.2.0->streamlit) (0.4)\n",
            "Requirement already satisfied: toolz in /usr/local/lib/python3.7/dist-packages (from altair>=3.2.0->streamlit) (0.11.2)\n",
            "Collecting gitdb<5,>=4.0.1\n",
            "  Downloading gitdb-4.0.9-py3-none-any.whl (63 kB)\n",
            "\u001b[K     |████████████████████████████████| 63 kB 981 kB/s \n",
            "\u001b[?25hCollecting smmap<6,>=3.0.1\n",
            "  Downloading smmap-5.0.0-py3-none-any.whl (24 kB)\n",
            "Requirement already satisfied: zipp>=0.5 in /usr/local/lib/python3.7/dist-packages (from importlib-metadata>=1.4->streamlit) (3.7.0)\n",
            "Requirement already satisfied: pyrsistent!=0.17.0,!=0.17.1,!=0.17.2,>=0.14.0 in /usr/local/lib/python3.7/dist-packages (from jsonschema>=3.0->altair>=3.2.0->streamlit) (0.18.1)\n",
            "Requirement already satisfied: importlib-resources>=1.4.0 in /usr/local/lib/python3.7/dist-packages (from jsonschema>=3.0->altair>=3.2.0->streamlit) (5.4.0)\n",
            "Requirement already satisfied: pytz>=2017.3 in /usr/local/lib/python3.7/dist-packages (from pandas>=0.21.0->streamlit) (2018.9)\n",
            "Requirement already satisfied: six>=1.9 in /usr/local/lib/python3.7/dist-packages (from protobuf!=3.11,>=3.6.0->streamlit) (1.15.0)\n",
            "Requirement already satisfied: traitlets>=4.3.2 in /usr/local/lib/python3.7/dist-packages (from pydeck>=0.1.dev5->streamlit) (5.1.1)\n",
            "Requirement already satisfied: ipywidgets>=7.0.0 in /usr/local/lib/python3.7/dist-packages (from pydeck>=0.1.dev5->streamlit) (7.6.5)\n",
            "Collecting ipykernel>=5.1.2\n",
            "  Downloading ipykernel-6.9.2-py3-none-any.whl (130 kB)\n",
            "\u001b[K     |████████████████████████████████| 130 kB 38.9 MB/s \n",
            "\u001b[?25hRequirement already satisfied: matplotlib-inline<0.2.0,>=0.1.0 in /usr/local/lib/python3.7/dist-packages (from ipykernel>=5.1.2->pydeck>=0.1.dev5->streamlit) (0.1.3)\n",
            "Requirement already satisfied: debugpy<2.0,>=1.0.0 in /usr/local/lib/python3.7/dist-packages (from ipykernel>=5.1.2->pydeck>=0.1.dev5->streamlit) (1.0.0)\n",
            "Requirement already satisfied: psutil in /usr/local/lib/python3.7/dist-packages (from ipykernel>=5.1.2->pydeck>=0.1.dev5->streamlit) (5.4.8)\n",
            "Requirement already satisfied: jupyter-client<8.0 in /usr/local/lib/python3.7/dist-packages (from ipykernel>=5.1.2->pydeck>=0.1.dev5->streamlit) (5.3.5)\n",
            "Requirement already satisfied: nest-asyncio in /usr/local/lib/python3.7/dist-packages (from ipykernel>=5.1.2->pydeck>=0.1.dev5->streamlit) (1.5.4)\n",
            "Collecting ipython>=7.23.1\n",
            "  Downloading ipython-7.32.0-py3-none-any.whl (793 kB)\n",
            "\u001b[K     |████████████████████████████████| 793 kB 43.6 MB/s \n",
            "\u001b[?25hRequirement already satisfied: jedi>=0.16 in /usr/local/lib/python3.7/dist-packages (from ipython>=7.23.1->ipykernel>=5.1.2->pydeck>=0.1.dev5->streamlit) (0.18.1)\n",
            "Requirement already satisfied: pickleshare in /usr/local/lib/python3.7/dist-packages (from ipython>=7.23.1->ipykernel>=5.1.2->pydeck>=0.1.dev5->streamlit) (0.7.5)\n",
            "Requirement already satisfied: backcall in /usr/local/lib/python3.7/dist-packages (from ipython>=7.23.1->ipykernel>=5.1.2->pydeck>=0.1.dev5->streamlit) (0.2.0)\n",
            "Requirement already satisfied: decorator in /usr/local/lib/python3.7/dist-packages (from ipython>=7.23.1->ipykernel>=5.1.2->pydeck>=0.1.dev5->streamlit) (4.4.2)\n",
            "Requirement already satisfied: pexpect>4.3 in /usr/local/lib/python3.7/dist-packages (from ipython>=7.23.1->ipykernel>=5.1.2->pydeck>=0.1.dev5->streamlit) (4.8.0)\n",
            "Requirement already satisfied: pygments in /usr/local/lib/python3.7/dist-packages (from ipython>=7.23.1->ipykernel>=5.1.2->pydeck>=0.1.dev5->streamlit) (2.6.1)\n",
            "Requirement already satisfied: setuptools>=18.5 in /usr/local/lib/python3.7/dist-packages (from ipython>=7.23.1->ipykernel>=5.1.2->pydeck>=0.1.dev5->streamlit) (57.4.0)\n",
            "Collecting prompt-toolkit!=3.0.0,!=3.0.1,<3.1.0,>=2.0.0\n",
            "  Downloading prompt_toolkit-3.0.28-py3-none-any.whl (380 kB)\n",
            "\u001b[K     |████████████████████████████████| 380 kB 37.5 MB/s \n",
            "\u001b[?25hRequirement already satisfied: nbformat>=4.2.0 in /usr/local/lib/python3.7/dist-packages (from ipywidgets>=7.0.0->pydeck>=0.1.dev5->streamlit) (5.1.3)\n",
            "Requirement already satisfied: ipython-genutils~=0.2.0 in /usr/local/lib/python3.7/dist-packages (from ipywidgets>=7.0.0->pydeck>=0.1.dev5->streamlit) (0.2.0)\n",
            "Requirement already satisfied: jupyterlab-widgets>=1.0.0 in /usr/local/lib/python3.7/dist-packages (from ipywidgets>=7.0.0->pydeck>=0.1.dev5->streamlit) (1.0.2)\n",
            "Requirement already satisfied: widgetsnbextension~=3.5.0 in /usr/local/lib/python3.7/dist-packages (from ipywidgets>=7.0.0->pydeck>=0.1.dev5->streamlit) (3.5.2)\n",
            "Requirement already satisfied: parso<0.9.0,>=0.8.0 in /usr/local/lib/python3.7/dist-packages (from jedi>=0.16->ipython>=7.23.1->ipykernel>=5.1.2->pydeck>=0.1.dev5->streamlit) (0.8.3)\n",
            "Requirement already satisfied: MarkupSafe>=0.23 in /usr/local/lib/python3.7/dist-packages (from jinja2->altair>=3.2.0->streamlit) (2.0.1)\n",
            "Requirement already satisfied: pyzmq>=13 in /usr/local/lib/python3.7/dist-packages (from jupyter-client<8.0->ipykernel>=5.1.2->pydeck>=0.1.dev5->streamlit) (22.3.0)\n",
            "Requirement already satisfied: jupyter-core>=4.6.0 in /usr/local/lib/python3.7/dist-packages (from jupyter-client<8.0->ipykernel>=5.1.2->pydeck>=0.1.dev5->streamlit) (4.9.2)\n",
            "Requirement already satisfied: ptyprocess>=0.5 in /usr/local/lib/python3.7/dist-packages (from pexpect>4.3->ipython>=7.23.1->ipykernel>=5.1.2->pydeck>=0.1.dev5->streamlit) (0.7.0)\n",
            "Requirement already satisfied: wcwidth in /usr/local/lib/python3.7/dist-packages (from prompt-toolkit!=3.0.0,!=3.0.1,<3.1.0,>=2.0.0->ipython>=7.23.1->ipykernel>=5.1.2->pydeck>=0.1.dev5->streamlit) (0.2.5)\n",
            "Requirement already satisfied: notebook>=4.4.1 in /usr/local/lib/python3.7/dist-packages (from widgetsnbextension~=3.5.0->ipywidgets>=7.0.0->pydeck>=0.1.dev5->streamlit) (5.3.1)\n",
            "Requirement already satisfied: Send2Trash in /usr/local/lib/python3.7/dist-packages (from notebook>=4.4.1->widgetsnbextension~=3.5.0->ipywidgets>=7.0.0->pydeck>=0.1.dev5->streamlit) (1.8.0)\n",
            "Requirement already satisfied: nbconvert in /usr/local/lib/python3.7/dist-packages (from notebook>=4.4.1->widgetsnbextension~=3.5.0->ipywidgets>=7.0.0->pydeck>=0.1.dev5->streamlit) (5.6.1)\n",
            "Requirement already satisfied: terminado>=0.8.1 in /usr/local/lib/python3.7/dist-packages (from notebook>=4.4.1->widgetsnbextension~=3.5.0->ipywidgets>=7.0.0->pydeck>=0.1.dev5->streamlit) (0.13.3)\n",
            "Requirement already satisfied: defusedxml in /usr/local/lib/python3.7/dist-packages (from nbconvert->notebook>=4.4.1->widgetsnbextension~=3.5.0->ipywidgets>=7.0.0->pydeck>=0.1.dev5->streamlit) (0.7.1)\n",
            "Requirement already satisfied: pandocfilters>=1.4.1 in /usr/local/lib/python3.7/dist-packages (from nbconvert->notebook>=4.4.1->widgetsnbextension~=3.5.0->ipywidgets>=7.0.0->pydeck>=0.1.dev5->streamlit) (1.5.0)\n",
            "Requirement already satisfied: testpath in /usr/local/lib/python3.7/dist-packages (from nbconvert->notebook>=4.4.1->widgetsnbextension~=3.5.0->ipywidgets>=7.0.0->pydeck>=0.1.dev5->streamlit) (0.6.0)\n",
            "Requirement already satisfied: bleach in /usr/local/lib/python3.7/dist-packages (from nbconvert->notebook>=4.4.1->widgetsnbextension~=3.5.0->ipywidgets>=7.0.0->pydeck>=0.1.dev5->streamlit) (4.1.0)\n",
            "Requirement already satisfied: mistune<2,>=0.8.1 in /usr/local/lib/python3.7/dist-packages (from nbconvert->notebook>=4.4.1->widgetsnbextension~=3.5.0->ipywidgets>=7.0.0->pydeck>=0.1.dev5->streamlit) (0.8.4)\n",
            "Requirement already satisfied: webencodings in /usr/local/lib/python3.7/dist-packages (from bleach->nbconvert->notebook>=4.4.1->widgetsnbextension~=3.5.0->ipywidgets>=7.0.0->pydeck>=0.1.dev5->streamlit) (0.5.1)\n",
            "Requirement already satisfied: pyparsing!=3.0.5,>=2.0.2 in /usr/local/lib/python3.7/dist-packages (from packaging->streamlit) (3.0.7)\n",
            "Requirement already satisfied: urllib3!=1.25.0,!=1.25.1,<1.26,>=1.21.1 in /usr/local/lib/python3.7/dist-packages (from requests->streamlit) (1.24.3)\n",
            "Requirement already satisfied: chardet<4,>=3.0.2 in /usr/local/lib/python3.7/dist-packages (from requests->streamlit) (3.0.4)\n",
            "Requirement already satisfied: idna<3,>=2.5 in /usr/local/lib/python3.7/dist-packages (from requests->streamlit) (2.10)\n",
            "Requirement already satisfied: certifi>=2017.4.17 in /usr/local/lib/python3.7/dist-packages (from requests->streamlit) (2021.10.8)\n",
            "Building wheels for collected packages: blinker\n",
            "  Building wheel for blinker (setup.py) ... \u001b[?25l\u001b[?25hdone\n",
            "  Created wheel for blinker: filename=blinker-1.4-py3-none-any.whl size=13478 sha256=a690a3f95312f9a094af5ecbc82ce1c9adce3e5cc9bdfab072cb708a7407a04e\n",
            "  Stored in directory: /root/.cache/pip/wheels/22/f5/18/df711b66eb25b21325c132757d4314db9ac5e8dabeaf196eab\n",
            "Successfully built blinker\n",
            "Installing collected packages: prompt-toolkit, ipython, ipykernel, smmap, gitdb, watchdog, validators, toml, pympler, pydeck, gitpython, blinker, base58, streamlit\n",
            "  Attempting uninstall: prompt-toolkit\n",
            "    Found existing installation: prompt-toolkit 1.0.18\n",
            "    Uninstalling prompt-toolkit-1.0.18:\n",
            "      Successfully uninstalled prompt-toolkit-1.0.18\n",
            "  Attempting uninstall: ipython\n",
            "    Found existing installation: ipython 5.5.0\n",
            "    Uninstalling ipython-5.5.0:\n",
            "      Successfully uninstalled ipython-5.5.0\n",
            "  Attempting uninstall: ipykernel\n",
            "    Found existing installation: ipykernel 4.10.1\n",
            "    Uninstalling ipykernel-4.10.1:\n",
            "      Successfully uninstalled ipykernel-4.10.1\n",
            "\u001b[31mERROR: pip's dependency resolver does not currently take into account all the packages that are installed. This behaviour is the source of the following dependency conflicts.\n",
            "jupyter-console 5.2.0 requires prompt-toolkit<2.0.0,>=1.0.0, but you have prompt-toolkit 3.0.28 which is incompatible.\n",
            "google-colab 1.0.0 requires ipykernel~=4.10, but you have ipykernel 6.9.2 which is incompatible.\n",
            "google-colab 1.0.0 requires ipython~=5.5.0, but you have ipython 7.32.0 which is incompatible.\u001b[0m\n",
            "Successfully installed base58-2.1.1 blinker-1.4 gitdb-4.0.9 gitpython-3.1.27 ipykernel-6.9.2 ipython-7.32.0 prompt-toolkit-3.0.28 pydeck-0.7.1 pympler-1.0.1 smmap-5.0.0 streamlit-1.7.0 toml-0.10.2 validators-0.18.2 watchdog-2.1.6\n"
          ]
        },
        {
          "output_type": "display_data",
          "data": {
            "application/vnd.colab-display-data+json": {
              "pip_warning": {
                "packages": [
                  "IPython",
                  "ipykernel",
                  "prompt_toolkit"
                ]
              }
            }
          },
          "metadata": {}
        },
        {
          "output_type": "stream",
          "name": "stdout",
          "text": [
            "Collecting pyngrok\n",
            "  Downloading pyngrok-5.1.0.tar.gz (745 kB)\n",
            "\u001b[?25l\r\u001b[K     |▍                               | 10 kB 18.6 MB/s eta 0:00:01\r\u001b[K     |▉                               | 20 kB 10.5 MB/s eta 0:00:01\r\u001b[K     |█▎                              | 30 kB 9.0 MB/s eta 0:00:01\r\u001b[K     |█▊                              | 40 kB 7.9 MB/s eta 0:00:01\r\u001b[K     |██▏                             | 51 kB 4.3 MB/s eta 0:00:01\r\u001b[K     |██▋                             | 61 kB 5.1 MB/s eta 0:00:01\r\u001b[K     |███                             | 71 kB 5.6 MB/s eta 0:00:01\r\u001b[K     |███▌                            | 81 kB 4.2 MB/s eta 0:00:01\r\u001b[K     |████                            | 92 kB 4.6 MB/s eta 0:00:01\r\u001b[K     |████▍                           | 102 kB 5.1 MB/s eta 0:00:01\r\u001b[K     |████▉                           | 112 kB 5.1 MB/s eta 0:00:01\r\u001b[K     |█████▎                          | 122 kB 5.1 MB/s eta 0:00:01\r\u001b[K     |█████▊                          | 133 kB 5.1 MB/s eta 0:00:01\r\u001b[K     |██████▏                         | 143 kB 5.1 MB/s eta 0:00:01\r\u001b[K     |██████▋                         | 153 kB 5.1 MB/s eta 0:00:01\r\u001b[K     |███████                         | 163 kB 5.1 MB/s eta 0:00:01\r\u001b[K     |███████▌                        | 174 kB 5.1 MB/s eta 0:00:01\r\u001b[K     |████████                        | 184 kB 5.1 MB/s eta 0:00:01\r\u001b[K     |████████▍                       | 194 kB 5.1 MB/s eta 0:00:01\r\u001b[K     |████████▉                       | 204 kB 5.1 MB/s eta 0:00:01\r\u001b[K     |█████████▎                      | 215 kB 5.1 MB/s eta 0:00:01\r\u001b[K     |█████████▊                      | 225 kB 5.1 MB/s eta 0:00:01\r\u001b[K     |██████████▏                     | 235 kB 5.1 MB/s eta 0:00:01\r\u001b[K     |██████████▌                     | 245 kB 5.1 MB/s eta 0:00:01\r\u001b[K     |███████████                     | 256 kB 5.1 MB/s eta 0:00:01\r\u001b[K     |███████████▍                    | 266 kB 5.1 MB/s eta 0:00:01\r\u001b[K     |███████████▉                    | 276 kB 5.1 MB/s eta 0:00:01\r\u001b[K     |████████████▎                   | 286 kB 5.1 MB/s eta 0:00:01\r\u001b[K     |████████████▊                   | 296 kB 5.1 MB/s eta 0:00:01\r\u001b[K     |█████████████▏                  | 307 kB 5.1 MB/s eta 0:00:01\r\u001b[K     |█████████████▋                  | 317 kB 5.1 MB/s eta 0:00:01\r\u001b[K     |██████████████                  | 327 kB 5.1 MB/s eta 0:00:01\r\u001b[K     |██████████████▌                 | 337 kB 5.1 MB/s eta 0:00:01\r\u001b[K     |███████████████                 | 348 kB 5.1 MB/s eta 0:00:01\r\u001b[K     |███████████████▍                | 358 kB 5.1 MB/s eta 0:00:01\r\u001b[K     |███████████████▉                | 368 kB 5.1 MB/s eta 0:00:01\r\u001b[K     |████████████████▎               | 378 kB 5.1 MB/s eta 0:00:01\r\u001b[K     |████████████████▊               | 389 kB 5.1 MB/s eta 0:00:01\r\u001b[K     |█████████████████▏              | 399 kB 5.1 MB/s eta 0:00:01\r\u001b[K     |█████████████████▋              | 409 kB 5.1 MB/s eta 0:00:01\r\u001b[K     |██████████████████              | 419 kB 5.1 MB/s eta 0:00:01\r\u001b[K     |██████████████████▌             | 430 kB 5.1 MB/s eta 0:00:01\r\u001b[K     |███████████████████             | 440 kB 5.1 MB/s eta 0:00:01\r\u001b[K     |███████████████████▍            | 450 kB 5.1 MB/s eta 0:00:01\r\u001b[K     |███████████████████▉            | 460 kB 5.1 MB/s eta 0:00:01\r\u001b[K     |████████████████████▎           | 471 kB 5.1 MB/s eta 0:00:01\r\u001b[K     |████████████████████▋           | 481 kB 5.1 MB/s eta 0:00:01\r\u001b[K     |█████████████████████           | 491 kB 5.1 MB/s eta 0:00:01\r\u001b[K     |█████████████████████▌          | 501 kB 5.1 MB/s eta 0:00:01\r\u001b[K     |██████████████████████          | 512 kB 5.1 MB/s eta 0:00:01\r\u001b[K     |██████████████████████▍         | 522 kB 5.1 MB/s eta 0:00:01\r\u001b[K     |██████████████████████▉         | 532 kB 5.1 MB/s eta 0:00:01\r\u001b[K     |███████████████████████▎        | 542 kB 5.1 MB/s eta 0:00:01\r\u001b[K     |███████████████████████▊        | 552 kB 5.1 MB/s eta 0:00:01\r\u001b[K     |████████████████████████▏       | 563 kB 5.1 MB/s eta 0:00:01\r\u001b[K     |████████████████████████▋       | 573 kB 5.1 MB/s eta 0:00:01\r\u001b[K     |█████████████████████████       | 583 kB 5.1 MB/s eta 0:00:01\r\u001b[K     |█████████████████████████▌      | 593 kB 5.1 MB/s eta 0:00:01\r\u001b[K     |██████████████████████████      | 604 kB 5.1 MB/s eta 0:00:01\r\u001b[K     |██████████████████████████▍     | 614 kB 5.1 MB/s eta 0:00:01\r\u001b[K     |██████████████████████████▉     | 624 kB 5.1 MB/s eta 0:00:01\r\u001b[K     |███████████████████████████▎    | 634 kB 5.1 MB/s eta 0:00:01\r\u001b[K     |███████████████████████████▊    | 645 kB 5.1 MB/s eta 0:00:01\r\u001b[K     |████████████████████████████▏   | 655 kB 5.1 MB/s eta 0:00:01\r\u001b[K     |████████████████████████████▋   | 665 kB 5.1 MB/s eta 0:00:01\r\u001b[K     |█████████████████████████████   | 675 kB 5.1 MB/s eta 0:00:01\r\u001b[K     |█████████████████████████████▌  | 686 kB 5.1 MB/s eta 0:00:01\r\u001b[K     |██████████████████████████████  | 696 kB 5.1 MB/s eta 0:00:01\r\u001b[K     |██████████████████████████████▍ | 706 kB 5.1 MB/s eta 0:00:01\r\u001b[K     |██████████████████████████████▊ | 716 kB 5.1 MB/s eta 0:00:01\r\u001b[K     |███████████████████████████████▏| 727 kB 5.1 MB/s eta 0:00:01\r\u001b[K     |███████████████████████████████▋| 737 kB 5.1 MB/s eta 0:00:01\r\u001b[K     |████████████████████████████████| 745 kB 5.1 MB/s \n",
            "\u001b[?25hRequirement already satisfied: PyYAML in /usr/local/lib/python3.7/dist-packages (from pyngrok) (3.13)\n",
            "Building wheels for collected packages: pyngrok\n",
            "  Building wheel for pyngrok (setup.py) ... \u001b[?25l\u001b[?25hdone\n",
            "  Created wheel for pyngrok: filename=pyngrok-5.1.0-py3-none-any.whl size=19007 sha256=05d30d329609fa18f2dcc18b181715d935a70a76c5137a53ad5f15128edc49c3\n",
            "  Stored in directory: /root/.cache/pip/wheels/bf/e6/af/ccf6598ecefecd44104069371795cb9b3afbcd16987f6ccfb3\n",
            "Successfully built pyngrok\n",
            "Installing collected packages: pyngrok\n",
            "Successfully installed pyngrok-5.1.0\n",
            "Collecting pdfminer\n",
            "  Downloading pdfminer-20191125.tar.gz (4.2 MB)\n",
            "\u001b[K     |████████████████████████████████| 4.2 MB 5.1 MB/s \n",
            "\u001b[?25hCollecting pycryptodome\n",
            "  Downloading pycryptodome-3.14.1-cp35-abi3-manylinux2010_x86_64.whl (2.0 MB)\n",
            "\u001b[K     |████████████████████████████████| 2.0 MB 32.5 MB/s \n",
            "\u001b[?25hBuilding wheels for collected packages: pdfminer\n",
            "  Building wheel for pdfminer (setup.py) ... \u001b[?25l\u001b[?25hdone\n",
            "  Created wheel for pdfminer: filename=pdfminer-20191125-py3-none-any.whl size=6140088 sha256=0ed48301e6a12d58089b51146e36ed3f858ef48d25fa8ae617cfb614256e6335\n",
            "  Stored in directory: /root/.cache/pip/wheels/e3/5e/f4/d210b46e9e4a28229ea070ed5b3efa92c3c29d1a7918dd4b97\n",
            "Successfully built pdfminer\n",
            "Installing collected packages: pycryptodome, pdfminer\n",
            "Successfully installed pdfminer-20191125 pycryptodome-3.14.1\n"
          ]
        }
      ],
      "source": [
        "!pip install streamlit\n",
        "!pip install pyngrok\n",
        "!pip install pdfminer"
      ]
    },
    {
      "cell_type": "code",
      "source": [
        "import streamlit as st"
      ],
      "metadata": {
        "id": "envz6sAv4-vG",
        "colab": {
          "base_uri": "https://localhost:8080/"
        },
        "outputId": "6e2efbce-2d9a-4b4d-99b4-b5e57540fef2"
      },
      "execution_count": 2,
      "outputs": [
        {
          "output_type": "stream",
          "name": "stderr",
          "text": [
            "2022-03-22 11:37:01.983 INFO    numexpr.utils: NumExpr defaulting to 2 threads.\n"
          ]
        }
      ]
    },
    {
      "cell_type": "code",
      "source": [
        "from google.colab import drive\n",
        "drive.mount('/content/drive')"
      ],
      "metadata": {
        "colab": {
          "base_uri": "https://localhost:8080/"
        },
        "id": "hwPK5kcNSBfU",
        "outputId": "4eeed3c9-c52d-43e3-ebe7-d3d08b9bcc65"
      },
      "execution_count": 3,
      "outputs": [
        {
          "output_type": "stream",
          "name": "stdout",
          "text": [
            "Mounted at /content/drive\n"
          ]
        }
      ]
    },
    {
      "cell_type": "code",
      "source": [
        "#Ecriture de l'API\n",
        "%%writefile monapp.py\n",
        "import streamlit as st\n",
        "from PIL import Image\n",
        "#Importer les datasets\n",
        "\n",
        "import pandas as pd\n",
        "import numpy as np\n",
        "# test symptome maladie pour le soigné\n",
        "path = '/content/drive/MyDrive/Data/'\n",
        "data_user = pd.read_excel(path + 'symptomes_maladies.xlsx')\n",
        "data_user=data_user.iloc[:,:99]\n",
        "\n",
        "#test risque maladie pour le soigné\n",
        "data_risques= pd.read_excel(path + 'risques_maladies.xlsx')\n",
        "list_symptoms =data_risques.columns.values.tolist()\n",
        "list_symptoms.remove(list_symptoms[0])\n",
        "\n",
        "#affichage des préventions selon maladie\n",
        "prevention = pd.read_excel(path + 'prévention.xlsx')\n",
        "\n",
        "#probabilité de maladie selon symptomes pour le médecin\n",
        "path = '/content/drive/MyDrive/Data/'\n",
        "data_medecin = pd.read_excel(path + 'singa_xl.xlsx')\n",
        "list_symptoms_maladie =data_medecin.columns.values.tolist()\n",
        "list_symptoms_maladie.remove(list_symptoms_maladie[0])\n",
        "\n",
        "\n",
        "\n",
        "### Liste des elements obtenues du Excel\n",
        "def page_acceuil():\n",
        "  st.header(\"Bienvenue sur la page d'acceuil de l'API de SINGA\")\n",
        "  st.markdown(\"Cette interface a pour objectif de vous aider à comprendre les risques qui vous entourent et peuvent impacter votre santé. Attention cependant, ces conseils ne remplacent pas une visite médicale chez le médecin\")\n",
        "  image = Image.open('/content/drive/MyDrive/Data/singa_project_img0.jpg')\n",
        "  st.image(image, caption='SINGA')\n",
        "\n",
        "#Pour le médecin\n",
        "def create_vector_medecin(options):\n",
        "  vector=[]\n",
        "  for i in range(len(options)):\n",
        "    for j in range(len(list_symptoms_maladie)):\n",
        "      if str(options[i])==str(list_symptoms_maladie[j]):\n",
        "        vector.insert(j,1.0)\n",
        "      else:\n",
        "        vector.insert(j,0.0)\n",
        "  return vector\n",
        "\n",
        "def what_disease(array,percentage):\n",
        "  list_sickness={}\n",
        "  for i in range(30):\n",
        "    count_up =0\n",
        "    count_down=0\n",
        "    count =0\n",
        "    for j in range(len(data_medecin.iloc[i])-2):\n",
        "     if array[j]==data_medecin.iloc[i][j+1]:\n",
        "       count_up+=1\n",
        "     else :\n",
        "       count_down+=1  \n",
        "    count=count_up-count_down\n",
        "    if ((count/122)*100)>=percentage:\n",
        "      list_sickness[data_medecin.iloc[i][0]]=((count/122)*100)\n",
        "  list_sickness= sorted(list_sickness.items(), key=lambda x: x[1], reverse=True)\n",
        "  return list_sickness\n",
        "\n",
        "#Pour le soigné\n",
        "def create_vector_soin(options):\n",
        "  vector=[]\n",
        "  for i in range(len(options)):\n",
        "    for j in range(len(list_symptoms)):\n",
        "      if str(options[i])==str(list_symptoms[j]):\n",
        "        vector.insert(j,1.0)\n",
        "      else:\n",
        "        vector.insert(j,0.0)\n",
        "  return vector\n",
        "\n",
        "\n",
        "def risk_disease(array,percentage):\n",
        "  list_sickness={}\n",
        "  for i in range(30):\n",
        "    count_up =0\n",
        "    count_down=0\n",
        "    count =0\n",
        "    for j in range(23):\n",
        "     if array[j]==data_risques.iloc[i][1:25][j]:\n",
        "       count_up+=1\n",
        "     else :\n",
        "       count_down+=1  \n",
        "    count=count_up-count_down\n",
        "    if ((count/23)*100)>=percentage:\n",
        "      list_sickness[data_risques.iloc[i][0]]=((count/23)*100)\n",
        "  list_sickness= sorted(list_sickness.items(), key=lambda x: x[1], reverse=True)\n",
        "  return list_sickness\n",
        "\n",
        "\n",
        "\n",
        "#Test symptome maladie pour le soigné\n",
        "def symptomes_maladies():\n",
        "  st.header(\"Quelle maladie devez-vous prévenir ?\")\n",
        "  options = st.multiselect(\n",
        "     'Quels sont vos risque?',\n",
        "     list_symptoms)\n",
        "  if st.button('Rechercher'):\n",
        "     vect =create_vector_soin(options)\n",
        "     liste_resultats=risk_disease(vect,80)\n",
        "     for i in range(3):\n",
        "       st.markdown(liste_resultats[i][0])\n",
        "  if st.button('Nettoyer Resultats'):\n",
        "    st.write('Nettoyé !')\n",
        "  else:\n",
        "     st.write('Remplir infos')\n",
        "  \n",
        "\n",
        "\n",
        "# Test symptomes maladie pour le médecin\n",
        "def symptomes_maladies_medecin():\n",
        "  st.header(\"Aide à la detection de maladies\")\n",
        "  options = st.multiselect(\n",
        "     'Quels sont les symptomes ?',\n",
        "     list_symptoms_maladie)\n",
        "  \n",
        "  if st.button('Rechercher'):\n",
        "     vect=create_vector_medecin(options)\n",
        "     liste_resultats=what_disease(vect,85)\n",
        "     for i in range(5):\n",
        "       st.markdown(liste_resultats[i][0])\n",
        "      \n",
        "  if st.button('Tout afficher'):\n",
        "    vect=create_vector_medecin(options)\n",
        "    liste_resultats=what_disease(vect,85)\n",
        "    for i in range(len(liste_resultats)):\n",
        "      st.markdown(liste_resultats[i][0])\n",
        "\n",
        "  if st.button('Nettoyer Resultats'):\n",
        "    vect=[0.0]*128\n",
        "    options=[]\n",
        "    st.write('Nettoyé !')\n",
        "  else:\n",
        "     st.write('Remplir infos')\n",
        "  \n",
        "\n",
        "def projet_singa():\n",
        "   st.title(\"Presentation du projet Singa\")\n",
        "   st.header(\"Le problème \")\n",
        "   st.markdown(\"- 41% de la population du continent vit actuellement au-dessus du seuil de la pauvreté\")\n",
        "   st.markdown(\"- En 2020, 53 % des Africains déclaraient avoir manqué de soins nécessaires au moins une fois au cours de l’année passée\")\n",
        "   st.header(\"La RDC \")\n",
        "   st.markdown(\"- environ 84 millions d’habitants en RDC \")\n",
        "   st.markdown(\"- marché estimé à 800 millions de dollars américains \")\n",
        "   st.markdown(\"- le système de santé Congolais est fracturé \")\n",
        "   st.markdown(\"- 74% de la population vit sous le seuil de pauvreté \")\n",
        "   st.markdown(\"- moins d’1% de la population a une assurance santé \")\n",
        "   st.markdown(\"- le budget pour la santé est à peine de 7% \")\n",
        "   st.header(\"Le marché \")\n",
        "   st.markdown(\"- depuis 2015: libéralisation du marché opérée par le gouvernement\")\n",
        "   st.markdown(\"- 400k membres de la diaspora en Europe : une participation active dans l’économie du pays\")\n",
        "   st.markdown(\"- un marché de l’assurance estimé à 800 millions de dollars\")\n",
        "   st.markdown(\"- 3 millions d’assurés, soit moins d’1% de la population\")\n",
        "   st.header(\"La solution\")\n",
        "   image = Image.open('/content/drive/MyDrive/Data/singa_project_img1.jpg')\n",
        "   st.image(image, caption='Solution singa')\n",
        "   st.markdown(\"- Un site en ligne pour enregistrer ses bénéficiaires et assurer la santé de sa famille\")\n",
        "   st.markdown(\"- Une application pour accéder à l'abonnement en tant que bénéficiaire et enregistrer ses consultations\")\n",
        "   st.header(\"Une protection adaptée\")\n",
        "   st.markdown(\"couvrir 100% des dépenses de santé, dans la limite de plafonds étudiés et adaptés aux besoins de la population \")\n",
        "   image = Image.open('/content/drive/MyDrive/Data/singa_project_img3.jpg')\n",
        "   st.image(image, caption='Solution singa')\n",
        "\n",
        "   st.header(\"Valeurs\")\n",
        "   st.header(\"Partage, sincérité & utilité\")\n",
        "   st.markdown(\"« nous croyons que la l’Afrique mérite d’avoir accès à des soins de qualité\")\n",
        "   st.markdown(\"nous rendons cela possible en renforçant le lien entre les membres de la diaspora et leurs familles, en commençant par le Congo\")\n",
        "   st.markdown(\"singa permet à la diaspora d’offrir à leurs proches une mutuelle santé simple, solidaire et utile »\")\n",
        "\n",
        "def projet_singa_esilv():\n",
        "  st.title(\"Presentation du projet Singa - ESILV\")\n",
        "  st.header(\"Missions\")\n",
        "  st.markdown(\"Au cours de ce projet d'année nous avons réalisés plusieurs missions techniques : de gestion back-end en premier lieu, de recherches et traitement d'informations médicales et enfin de gestion front-end avec une API user-friendly\")\n",
        "  \n",
        "  st.header(\"Gestion des données en back-end\")\n",
        "  st.markdown(\"Notre objectif premier fut de développer pour Singa une organisation de leurs différents partenaires, des échanges et des responsabilités/options de chacun et ce afin de faciliter la gestion de leurs données après création du site web\")\n",
        "  st.markdown(\"Nous avons alors dévellopé un schéma E/A de ces différents acteurs et des relations qui les lient\")\n",
        "  image = Image.open('/content/drive/MyDrive/Data/image.png')\n",
        "  st.image(image, caption='Schema E/A')\n",
        "  st.markdown(\"Nous avons ensuite travaillé sur le développement de ce schéma en creant une base de donnée via JavaScript et pouvant ainsi être importé sur Docker\")\n",
        "  image = Image.open('/content/drive/MyDrive/Data/singa_dev.jpg')\n",
        "  st.image(image, caption='Dévellopement de la base de données en JavaScript')\n",
        "  image = Image.open('/content/drive/MyDrive/Data/horizontal-logo-monochromatic-white.png')\n",
        "  st.image(image, caption='Exportation et gestion de la BDD sur Docker')\n",
        "  \n",
        "  st.header(\"Gestion de données de santé\")\n",
        "  st.markdown(\"Les données de santé etant très reglementés, nous avons effectués un travail de recherces médicales en créant un excel de pres de 1300 points d'informations reliés ( dizaine de maladies pour 126 critères d'indentifications)\")\n",
        "  st.markdown(\"Nous avions pour objectif de dévelloper une API d'aide à l'identification de maladies pour le médecin mais de pré-diagnostic pour le bénéficiaire aussi et nous avons alors travaillé sur les datasets suivants nous permettant de prévenir les maladies étudiés :\")\n",
        "  prevention = pd.read_excel(path + 'prévention.xlsx')\n",
        "  st.dataframe(prevention)\n",
        "  data_risques= pd.read_excel(path + 'risques_maladies.xlsx')\n",
        "  st.dataframe(data_risques)\n",
        "  data_medecin = pd.read_excel(path + 'singa_xl.xlsx')\n",
        "  st.dataframe(data_medecin)\n",
        "  st.markdown(\"\")\n",
        "  \n",
        "  st.header(\"Développement d'une API d'aide à la prévention\")\n",
        "  st.markdown(\"Notre objectif final avec l'étude des données de santé décrite au dessus, était de dévelloper une API d'aide à l'identification de maladies pour le médecin mais de pré-diagnostic pour le bénéficiaire\")\n",
        "  st.markdown(\"Nous avons alors dévellopé un algorithmes qui ressort selon les critères rentrés par le sujet, les maladies les plus à risques :\")\n",
        "  st.markdown(\"Ici un appercu du code :\")\n",
        "  code='''\n",
        "  #Pour le médecin\n",
        "  #Transformation de l'information en vecteur \n",
        "  def create_vector_medecin(options):\n",
        "    vector=[]\n",
        "    for i in range(len(options)):\n",
        "      for j in range(len(list_symptoms_maladie)):\n",
        "        if str(options[i])==str(list_symptoms_maladie[j]):\n",
        "          vector.insert(j,1.0)\n",
        "        else:\n",
        "          vector.insert(j,0.0)\n",
        "    return vector\n",
        "  #Algotihme de ressemblance du vecteur rentré par rapport au dataset \n",
        "  def what_disease(array,percentage):\n",
        "    list_sickness={}\n",
        "    for i in range(30):\n",
        "      count_up =0\n",
        "      count_down=0\n",
        "      count =0\n",
        "      for j in range(len(data_medecin.iloc[i])-2):\n",
        "      if array[j]==data_medecin.iloc[i][j+1]:\n",
        "        count_up+=1\n",
        "      else :\n",
        "        count_down+=1  \n",
        "      count=count_up-count_down\n",
        "      if ((count/122)*100)>=percentage:\n",
        "        list_sickness[data_medecin.iloc[i][0]]=((count/122)*100)\n",
        "    list_sickness= sorted(list_sickness.items(), key=lambda x: x[1], reverse=True)\n",
        "    return list_sickness'''\n",
        "  st.code(code)\n",
        "\n",
        "#### MAIN\n",
        "def main():\n",
        "  page_projet=st.sidebar.selectbox(\n",
        "            \"A propos de singa\",\n",
        "            [\"Selection\",\"Presentation du projet Singa\",\"Projet ESILV-SINGA\"],)\n",
        "  if page_projet==\"Presentation du projet Singa\":\n",
        "    projet_singa()\n",
        "  if page_projet==\"Projet ESILV-SINGA\":\n",
        "    projet_singa_esilv()\n",
        "  page = st.sidebar.selectbox(\n",
        "              \"Prévenir les maladies\",\n",
        "              [\"Selection\"]+prevention.iloc[:,0].to_list())\n",
        "  for i in range(len(prevention.iloc[:,0].to_list())):\n",
        "    if page ==prevention.iloc[:,0].to_list()[i]:\n",
        "      st.header(prevention.iloc[:,0].to_list()[i])\n",
        "      # Tuberculose, ebola\n",
        "      #Tuberculose,Ebola (FHV) \n",
        "      if(prevention.iloc[:,0].to_list()[0]==page):\n",
        "           image = Image.open('/content/drive/MyDrive/Data/tuberculose.jpg')\n",
        "           st.image(image, caption='Solution singa')\n",
        "        \n",
        "      if(prevention.iloc[:,0].to_list()[1]==page):\n",
        "           image = Image.open('/content/drive/MyDrive/Data/ebola.jpg')\n",
        "           st.image(image, caption='Solution singa')\n",
        "      if(prevention.iloc[:,0].to_list()[3]==page):\n",
        "          image = Image.open('/content/drive/MyDrive/Data/oncho.jpg')\n",
        "          st.image(image, caption='Solution singa')\n",
        "\n",
        "      else :\n",
        "        st.markdown(prevention.iloc[:,1].to_list()[i])\n",
        "\n",
        "  test_api= st.sidebar.selectbox(\n",
        "              \"De quelle maladie suis-je sujet à risque ?\",\n",
        "              [\"Selection\",\"Testez-vous ici\",\"Test médecin\"],)\n",
        "  if test_api==\"Testez-vous ici\":\n",
        "    symptomes_maladies()\n",
        "  if page==\"Selection\" and test_api==\"Selection\" and page_projet==\"Selection\":\n",
        "    page_acceuil()\n",
        "  if test_api==\"Test médecin\":\n",
        "    symptomes_maladies_medecin()\n",
        "\n",
        "\n",
        "\n",
        "\n",
        "main()\n"
      ],
      "metadata": {
        "colab": {
          "base_uri": "https://localhost:8080/"
        },
        "id": "FPhA1le55DLH",
        "outputId": "5729aeb8-58d7-4f94-cc67-f67c7e59b2ad"
      },
      "execution_count": 4,
      "outputs": [
        {
          "output_type": "stream",
          "name": "stdout",
          "text": [
            "Writing monapp.py\n"
          ]
        }
      ]
    },
    {
      "cell_type": "code",
      "source": [
        "!ngrok authtoken 264Tgp8yr4I01TU8If3Wvb0rJWR_63fV6BNY4kQehfh4JL4zw"
      ],
      "metadata": {
        "colab": {
          "base_uri": "https://localhost:8080/"
        },
        "id": "-cELNE8v5Gfr",
        "outputId": "595ec40a-1757-48c7-850c-20b8931c9d47"
      },
      "execution_count": 5,
      "outputs": [
        {
          "output_type": "stream",
          "name": "stdout",
          "text": [
            "Authtoken saved to configuration file: /root/.ngrok2/ngrok.yml\n"
          ]
        }
      ]
    },
    {
      "cell_type": "code",
      "source": [
        "from pyngrok import ngrok\n",
        "!streamlit run --server.port 80 monapp.py&>/dev/null&"
      ],
      "metadata": {
        "id": "dnyDKM8g5UFw"
      },
      "execution_count": 6,
      "outputs": []
    },
    {
      "cell_type": "code",
      "source": [
        "!pgrep streamlit"
      ],
      "metadata": {
        "colab": {
          "base_uri": "https://localhost:8080/"
        },
        "id": "1CUnq5s05dYH",
        "outputId": "fefb7677-6bcf-400c-9589-9afbce600953"
      },
      "execution_count": 7,
      "outputs": [
        {
          "output_type": "stream",
          "name": "stdout",
          "text": [
            "361\n"
          ]
        }
      ]
    },
    {
      "cell_type": "code",
      "source": [
        "publ_url = ngrok.connect(port='8501')"
      ],
      "metadata": {
        "colab": {
          "base_uri": "https://localhost:8080/"
        },
        "id": "VfrEbocr5efX",
        "outputId": "79c18d9d-3dcc-4dbc-ad57-90c0d6bf4492"
      },
      "execution_count": 8,
      "outputs": [
        {
          "output_type": "stream",
          "name": "stderr",
          "text": [
            "2022-03-22 11:37:20.972 INFO    pyngrok.ngrok: Opening tunnel named: http-80-87c2b72b-8b13-4b8d-954f-b2cb6b0df57b\n",
            "2022-03-22 11:37:21.025 INFO    pyngrok.process.ngrok: t=2022-03-22T11:37:21+0000 lvl=info msg=\"no configuration paths supplied\"\n",
            "2022-03-22 11:37:21.035 INFO    pyngrok.process.ngrok: t=2022-03-22T11:37:21+0000 lvl=info msg=\"using configuration at default config path\" path=/root/.ngrok2/ngrok.yml\n",
            "2022-03-22 11:37:21.038 INFO    pyngrok.process.ngrok: t=2022-03-22T11:37:21+0000 lvl=info msg=\"open config file\" path=/root/.ngrok2/ngrok.yml err=nil\n",
            "2022-03-22 11:37:21.046 INFO    pyngrok.process.ngrok: t=2022-03-22T11:37:21+0000 lvl=info msg=\"starting web service\" obj=web addr=127.0.0.1:4040\n",
            "2022-03-22 11:37:21.177 INFO    pyngrok.process.ngrok: t=2022-03-22T11:37:21+0000 lvl=info msg=\"tunnel session started\" obj=tunnels.session\n",
            "2022-03-22 11:37:21.183 INFO    pyngrok.process.ngrok: t=2022-03-22T11:37:21+0000 lvl=info msg=\"client session established\" obj=csess id=bce17a089c13\n",
            "2022-03-22 11:37:21.211 INFO    pyngrok.process.ngrok: t=2022-03-22T11:37:21+0000 lvl=info msg=start pg=/api/tunnels id=929546603fa34c7d\n",
            "2022-03-22 11:37:21.220 INFO    pyngrok.process.ngrok: t=2022-03-22T11:37:21+0000 lvl=info msg=end pg=/api/tunnels id=929546603fa34c7d status=200 dur=514.684µs\n",
            "2022-03-22 11:37:21.223 INFO    pyngrok.process.ngrok: t=2022-03-22T11:37:21+0000 lvl=info msg=start pg=/api/tunnels id=7af9082dce7e22c9\n",
            "2022-03-22 11:37:21.238 INFO    pyngrok.process.ngrok: t=2022-03-22T11:37:21+0000 lvl=info msg=end pg=/api/tunnels id=7af9082dce7e22c9 status=200 dur=114.236µs\n",
            "2022-03-22 11:37:21.240 INFO    pyngrok.process.ngrok: t=2022-03-22T11:37:21+0000 lvl=info msg=start pg=/api/tunnels id=51684fa2fd647cd7\n",
            "2022-03-22 11:37:21.319 INFO    pyngrok.process.ngrok: t=2022-03-22T11:37:21+0000 lvl=info msg=\"started tunnel\" obj=tunnels name=\"http-80-87c2b72b-8b13-4b8d-954f-b2cb6b0df57b (http)\" addr=http://localhost:80 url=http://31c6-35-185-75-215.ngrok.io\n",
            "2022-03-22 11:37:21.330 INFO    pyngrok.process.ngrok: t=2022-03-22T11:37:21+0000 lvl=info msg=\"started tunnel\" obj=tunnels name=http-80-87c2b72b-8b13-4b8d-954f-b2cb6b0df57b addr=http://localhost:80 url=https://31c6-35-185-75-215.ngrok.io\n",
            "2022-03-22 11:37:21.332 INFO    pyngrok.process.ngrok: t=2022-03-22T11:37:21+0000 lvl=info msg=end pg=/api/tunnels id=51684fa2fd647cd7 status=201 dur=91.342964ms\n",
            "2022-03-22 11:37:21.339 INFO    pyngrok.process.ngrok: t=2022-03-22T11:37:21+0000 lvl=info msg=start pg=\"/api/tunnels/http-80-87c2b72b-8b13-4b8d-954f-b2cb6b0df57b (http)\" id=344fb13060c5beac\n"
          ]
        }
      ]
    },
    {
      "cell_type": "code",
      "source": [
        "publ_url"
      ],
      "metadata": {
        "colab": {
          "base_uri": "https://localhost:8080/"
        },
        "id": "nfs12o8r5g9b",
        "outputId": "59e08e49-a9ad-418f-8551-3326604d067b"
      },
      "execution_count": 9,
      "outputs": [
        {
          "output_type": "stream",
          "name": "stderr",
          "text": [
            "2022-03-22 11:37:21.344 INFO    pyngrok.process.ngrok: t=2022-03-22T11:37:21+0000 lvl=info msg=end pg=\"/api/tunnels/http-80-87c2b72b-8b13-4b8d-954f-b2cb6b0df57b (http)\" id=344fb13060c5beac status=200 dur=158.926µs\n"
          ]
        },
        {
          "output_type": "execute_result",
          "data": {
            "text/plain": [
              "<NgrokTunnel: \"http://31c6-35-185-75-215.ngrok.io\" -> \"http://localhost:80\">"
            ]
          },
          "metadata": {},
          "execution_count": 9
        }
      ]
    },
    {
      "cell_type": "code",
      "source": [
        "ngrok.kill()"
      ],
      "metadata": {
        "id": "hSm0U1PO5qsJ"
      },
      "execution_count": null,
      "outputs": []
    }
  ]
}